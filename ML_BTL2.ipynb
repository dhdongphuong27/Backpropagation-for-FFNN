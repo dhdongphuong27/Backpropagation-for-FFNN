{
  "nbformat": 4,
  "nbformat_minor": 0,
  "metadata": {
    "colab": {
      "name": "ML_BTL2.ipynb",
      "provenance": []
    },
    "kernelspec": {
      "name": "python3",
      "display_name": "Python 3"
    },
    "language_info": {
      "name": "python"
    }
  },
  "cells": [
    {
      "cell_type": "code",
      "execution_count": 2,
      "metadata": {
        "id": "yf-DZwNJf80W"
      },
      "outputs": [],
      "source": [
        "import numpy as np\n",
        "import pandas as pd"
      ]
    },
    {
      "cell_type": "code",
      "source": [
        "# Hàm sigmoid\n",
        "def sigmoid(x):\n",
        "        return 1/(1+np.exp(-x))\n",
        " \n",
        "   \n",
        "# Đạo hàm hàm sigmoid\n",
        "def sigmoid_derivative(x):\n",
        "        return x*(1-x)"
      ],
      "metadata": {
        "id": "mhKpodRTf--0"
      },
      "execution_count": 1,
      "outputs": []
    },
    {
      "cell_type": "code",
      "source": [
        "\n",
        "# Lớp neural network\n",
        "class NeuralNetwork:\n",
        "    def __init__(self, layers, alpha=0.1):\n",
        "\t\t# Mô hình layer ví dụ [2,2,1]\n",
        "      self.layers = layers \n",
        "      \n",
        "      # Hệ số learning rate\n",
        "      self.alpha = alpha\n",
        "\t\t\n",
        "      # Tham số W, b\n",
        "      self.W = []\n",
        "      self.b = []\n",
        "      \n",
        "      # Khởi tạo các tham số ở mỗi layer\n",
        "      for i in range(0, len(layers)-1):\n",
        "            w_ = np.random.randn(layers[i], layers[i+1])\n",
        "            b_ = np.zeros((layers[i+1], 1))\n",
        "            self.W.append(w_/layers[i])\n",
        "            self.b.append(b_)\n",
        "            \n",
        "    \n",
        "\t# Tóm tắt mô hình neural network\n",
        "    def __repr__(self):\n",
        "        return \"Neural network [{}]\".format(\"-\".join(str(l) for l in self.layers))\n",
        "    \n",
        "\t\n",
        "\t# Train mô hình với dữ liệu\n",
        "    def fit_partial(self, x, y):\n",
        "        A = [x]\n",
        "        \n",
        "        # quá trình feedforward\n",
        "        out = A[-1]\n",
        "        for i in range(0, len(self.layers) - 1):\n",
        "            out = sigmoid(np.dot(out, self.W[i]) + (self.b[i].T))\n",
        "            A.append(out)\n",
        "        \n",
        "        # quá trình backpropagation\n",
        "        y = y.reshape(-1, 1)\n",
        "        dA = [-(y/A[-1] - (1-y)/(1-A[-1]))]\n",
        "        dW = []\n",
        "        db = []\n",
        "        for i in reversed(range(0, len(self.layers)-1)):\n",
        "            dw_ = np.dot((A[i]).T, dA[-1] * sigmoid_derivative(A[i+1]))\n",
        "            db_ = (np.sum(dA[-1] * sigmoid_derivative(A[i+1]), 0)).reshape(-1,1)\n",
        "            dA_ = np.dot(dA[-1] * sigmoid_derivative(A[i+1]), self.W[i].T)\n",
        "            dW.append(dw_)\n",
        "            db.append(db_)\n",
        "            dA.append(dA_)\n",
        "        \n",
        "        # Đảo ngược dW, db\n",
        "        dW = dW[::-1]\n",
        "        db = db[::-1]\n",
        "        \n",
        "\t\t# Gradient descent\n",
        "        for i in range(0, len(self.layers)-1):\n",
        "            self.W[i] = self.W[i] - self.alpha * dW[i]\n",
        "            self.b[i] = self.b[i] - self.alpha * db[i]\n",
        "      \n",
        "    def fit(self, X, y, epochs=20, verbose=10):\n",
        "        for epoch in range(0, epochs):\n",
        "            self.fit_partial(X, y)\n",
        "            if epoch % verbose == 0:\n",
        "                loss = self.calculate_loss(X, y)\n",
        "                print(\"Epoch {}, loss {}\".format(epoch, loss))\n",
        "    \n",
        "\t# Dự đoán\n",
        "    def predict(self, X):\n",
        "        for i in range(0, len(self.layers) - 1):\n",
        "            X = sigmoid(np.dot(X, self.W[i]) + (self.b[i].T))\n",
        "        return X\n",
        "\n",
        "\t# Tính loss function\n",
        "    def calculate_loss(self, X, y):\n",
        "        y_predict = self.predict(X)\n",
        "        #return np.sum((y_predict-y)**2)/2\n",
        "        return -(np.sum(y*np.log(y_predict) + (1-y)*np.log(1-y_predict)))"
      ],
      "metadata": {
        "id": "VzgYT6H8gBom"
      },
      "execution_count": 3,
      "outputs": []
    },
    {
      "cell_type": "code",
      "source": [
        "# Dataset bài 2\n",
        "data = pd.read_csv('dataset.csv').values\n",
        "N, d = data.shape\n",
        "X = data[:, 0:d-1].reshape(-1, d-1)\n",
        "y = data[:, 2].reshape(-1, 1)\n",
        "\n",
        "p = NeuralNetwork([X.shape[1], 2, 1], 0.1)\n",
        "p.fit(X, y, 10000, 100)"
      ],
      "metadata": {
        "id": "ZA0nbsOmg4zy"
      },
      "execution_count": null,
      "outputs": []
    }
  ]
}